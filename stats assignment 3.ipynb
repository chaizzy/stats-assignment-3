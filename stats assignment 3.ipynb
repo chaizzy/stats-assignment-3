{
 "cells": [
  {
   "cell_type": "code",
   "execution_count": 1,
   "id": "f8fb95e8-0ef8-47e6-82df-8f7bf57b1c33",
   "metadata": {},
   "outputs": [],
   "source": [
    "# ANS 1:\n",
    "# \"probablity desity function\"\n",
    "# it describes relative probablity of continous random varaible to take on a given value\n",
    "# it used to calculate the probality of a given range of a continous random variable"
   ]
  },
  {
   "cell_type": "code",
   "execution_count": 2,
   "id": "9c03b25a-3630-4787-9bf8-08ba2b27ae27",
   "metadata": {},
   "outputs": [],
   "source": [
    "#  ANS 2:\n",
    "# Normal distribution\n",
    "# Bernoulli distribution\n",
    "# Binomial Distribution \n",
    "# Poisson Distribution\n",
    "# Uniform Distribution"
   ]
  },
  {
   "cell_type": "code",
   "execution_count": 3,
   "id": "5f7196a3-db88-4da4-a712-cf421ab190f1",
   "metadata": {},
   "outputs": [
    {
     "data": {
      "text/plain": [
       "2.588239943689364e-48"
      ]
     },
     "execution_count": 3,
     "metadata": {},
     "output_type": "execute_result"
    }
   ],
   "source": [
    "# ANS 3:\n",
    "from scipy.stats import norm\n",
    "x=23\n",
    "mean = 67\n",
    "std= 3\n",
    "norm.pdf(x,loc=mean,scale=3)"
   ]
  },
  {
   "cell_type": "code",
   "execution_count": 15,
   "id": "4636e57d-8eae-4918-a7d6-bb0675303c72",
   "metadata": {},
   "outputs": [],
   "source": [
    "# ANS 4 :\n",
    "# \"Binomial Distribution\" \n",
    "# It has two parameters n and p is the discrete probablity distribution of the number of success in a sequence\n",
    "# Every experiment outcome is binary\n",
    "# these experiment is performed for n trials\n",
    "# It is displayed in probablity mass function\n",
    "# example : tossing a coin 10 times"
   ]
  },
  {
   "cell_type": "code",
   "execution_count": 5,
   "id": "5355965e-7cb4-4694-a0a0-0ca3cf17e081",
   "metadata": {},
   "outputs": [
    {
     "data": {
      "text/plain": [
       "(array([  6.,  23.,  95., 171., 278., 215., 152.,  48.,  10.,   2.]),\n",
       " array([351. , 361.4, 371.8, 382.2, 392.6, 403. , 413.4, 423.8, 434.2,\n",
       "        444.6, 455. ]),\n",
       " <BarContainer object of 10 artists>)"
      ]
     },
     "execution_count": 5,
     "metadata": {},
     "output_type": "execute_result"
    },
    {
     "data": {
      "image/png": "[encoded data removed]",
      "text/plain": [
       "<Figure size 640x480 with 1 Axes>"
      ]
     },
     "metadata": {},
     "output_type": "display_data"
    }
   ],
   "source": [
    "# ANS 5 :\n",
    "import numpy as np \n",
    "import matplotlib.pyplot as plt\n",
    "n=1000\n",
    "p=0.4\n",
    "a = np.random.binomial(n,p,1000)\n",
    "plt.hist(a)"
   ]
  },
  {
   "cell_type": "code",
   "execution_count": 6,
   "id": "62d24628-591a-43fa-bb74-8d6bd3405281",
   "metadata": {},
   "outputs": [
    {
     "data": {
      "text/plain": [
       "0.9999999999999506"
      ]
     },
     "execution_count": 6,
     "metadata": {},
     "output_type": "execute_result"
    }
   ],
   "source": [
    "# ANS 6:\n",
    "from scipy.special import gammainc\n",
    "k=5\n",
    "mean=45\n",
    "gammainc(k+1,mean)"
   ]
  },
  {
   "cell_type": "code",
   "execution_count": 13,
   "id": "1bef1f07-d581-4e08-bd9e-dd5f3d5fd84b",
   "metadata": {},
   "outputs": [],
   "source": [
    "# ANS 7 :\n",
    "# In Binomial distribution describes the single experiment or trial \n",
    "# but Poisson Distribution describes no. of events occurring in a fixed time interval "
   ]
  },
  {
   "cell_type": "code",
   "execution_count": 8,
   "id": "f1e99e7d-e5aa-47e6-81dc-a1b8e514bce8",
   "metadata": {},
   "outputs": [],
   "source": [
    "# ANS 8\n",
    "lamda = 5\n",
    "n=1000\n",
    "a=np.random.poisson(lam=5 , size=1000)"
   ]
  },
  {
   "cell_type": "code",
   "execution_count": 9,
   "id": "bf755a40-3643-4cb5-b128-e261eaef227c",
   "metadata": {},
   "outputs": [
    {
     "data": {
      "text/plain": [
       "5.003"
      ]
     },
     "execution_count": 9,
     "metadata": {},
     "output_type": "execute_result"
    }
   ],
   "source": [
    "np.mean(a)"
   ]
  },
  {
   "cell_type": "code",
   "execution_count": 10,
   "id": "8f84928f-c334-49f7-a995-ac8e4c928b86",
   "metadata": {},
   "outputs": [
    {
     "data": {
      "text/plain": [
       "5.068991"
      ]
     },
     "execution_count": 10,
     "metadata": {},
     "output_type": "execute_result"
    }
   ],
   "source": [
    "np.var(a)"
   ]
  },
  {
   "cell_type": "code",
   "execution_count": 14,
   "id": "6bbbc1fa-1d6a-433e-bcb9-0eca2b289d57",
   "metadata": {},
   "outputs": [],
   "source": [
    "# ANS 9 :\n",
    "# mean and varinace both are related in bernolli and poisson distribution\n",
    "\n",
    "#  Binomial distribution\n",
    "# mean = no. of trials * success probablity\n",
    "# variance = no. of trials * success probablity * failure probablity\n",
    "\n",
    "#  Poisson Distribution \n",
    "# mean = lamda * time interval        (lamda = expected no. of events to occur at every time interval)\n",
    "# variance = same as mean\n",
    "\n",
    "\n"
   ]
  },
  {
   "cell_type": "code",
   "execution_count": 12,
   "id": "25c14e68-5909-46f3-b6d3-1f4becf22e45",
   "metadata": {},
   "outputs": [],
   "source": [
    "# ANS 10 :\n",
    "# least frequent appers to be in first standard deviation which is  68% data"
   ]
  },
  {
   "cell_type": "code",
   "execution_count": null,
   "id": "d4104de0-6cb2-4c12-9a0f-b8da1e6571c6",
   "metadata": {},
   "outputs": [],
   "source": []
  }
 ],
 "metadata": {
  "kernelspec": {
   "display_name": "Python 3 (ipykernel)",
   "language": "python",
   "name": "python3"
  },
  "language_info": {
   "codemirror_mode": {
    "name": "ipython",
    "version": 3
   },
   "file_extension": ".py",
   "mimetype": "text/x-python",
   "name": "python",
   "nbconvert_exporter": "python",
   "pygments_lexer": "ipython3",
   "version": "3.10.8"
  }
 },
 "nbformat": 4,
 "nbformat_minor": 5
}
